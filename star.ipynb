{
 "cells": [
  {
   "cell_type": "code",
   "execution_count": 10,
   "metadata": {},
   "outputs": [],
   "source": [
    "n = 9"
   ]
  },
  {
   "cell_type": "code",
   "execution_count": 2,
   "metadata": {},
   "outputs": [
    {
     "name": "stdout",
     "output_type": "stream",
     "text": [
      "*\n",
      "**\n",
      "***\n",
      "****\n",
      "*****\n",
      "******\n",
      "*******\n",
      "********\n",
      "*********\n",
      "**********\n",
      "***********\n",
      "************\n",
      "*************\n",
      "**************\n",
      "***************\n",
      "****************\n",
      "*****************\n",
      "******************\n"
     ]
    }
   ],
   "source": [
    "# *\n",
    "# **\n",
    "# ***\n",
    "for i in range(1, n+1):\n",
    "    print('*'*i)"
   ]
  },
  {
   "cell_type": "code",
   "execution_count": 3,
   "metadata": {},
   "outputs": [
    {
     "name": "stdout",
     "output_type": "stream",
     "text": [
      "******************\n",
      "*****************\n",
      "****************\n",
      "***************\n",
      "**************\n",
      "*************\n",
      "************\n",
      "***********\n",
      "**********\n",
      "*********\n",
      "********\n",
      "*******\n",
      "******\n",
      "*****\n",
      "****\n",
      "***\n",
      "**\n",
      "*\n"
     ]
    }
   ],
   "source": [
    "# ***\n",
    "# **\n",
    "# *\n",
    "for i in range(n, 0, -1):\n",
    "    print('*'*i)"
   ]
  },
  {
   "cell_type": "code",
   "execution_count": 3,
   "metadata": {},
   "outputs": [
    {
     "name": "stdout",
     "output_type": "stream",
     "text": [
      "                 *                 \n",
      "                * *                \n",
      "               * * *               \n",
      "              * * * *              \n",
      "             * * * * *             \n",
      "            * * * * * *            \n",
      "           * * * * * * *           \n",
      "          * * * * * * * *          \n",
      "         * * * * * * * * *         \n",
      "        * * * * * * * * * *        \n",
      "       * * * * * * * * * * *       \n",
      "      * * * * * * * * * * * *      \n",
      "     * * * * * * * * * * * * *     \n",
      "    * * * * * * * * * * * * * *    \n",
      "   * * * * * * * * * * * * * * *   \n",
      "  * * * * * * * * * * * * * * * *  \n",
      " * * * * * * * * * * * * * * * * * \n",
      "* * * * * * * * * * * * * * * * * *\n"
     ]
    }
   ],
   "source": [
    "#   *\n",
    "#  * *\n",
    "# * * *\n",
    "cols = (n * 2) -1\n",
    "star = '*'\n",
    "for i in range(1, n+1):\n",
    "    num_of_spaces = cols // (i + 1)\n",
    "    \n",
    "    # Calculation for printing star\n",
    "    star_print = star\n",
    "    if i != 1:\n",
    "        star_print = f'{star} '  * (i - 1) + '*'\n",
    "    \n",
    "    # Calculation for printing spaces\n",
    "    parity = cols - ((num_of_spaces * 2) + len(star_print))\n",
    "    if parity != 0:\n",
    "        num_of_spaces = num_of_spaces + (parity // 2)\n",
    "    space_print = ' ' * num_of_spaces\n",
    "    \n",
    "    # Combination of printing spaces and stars\n",
    "    print(f'{star_print}' if i == n else f'{space_print}{star_print}{space_print}')"
   ]
  },
  {
   "cell_type": "code",
   "execution_count": 4,
   "metadata": {},
   "outputs": [
    {
     "name": "stdout",
     "output_type": "stream",
     "text": [
      "* * * * * * * * * * * * * * * * * *\n",
      " * * * * * * * * * * * * * * * * * \n",
      "  * * * * * * * * * * * * * * * *  \n",
      "   * * * * * * * * * * * * * * *   \n",
      "    * * * * * * * * * * * * * *    \n",
      "     * * * * * * * * * * * * *     \n",
      "      * * * * * * * * * * * *      \n",
      "       * * * * * * * * * * *       \n",
      "        * * * * * * * * * *        \n",
      "         * * * * * * * * *         \n",
      "          * * * * * * * *          \n",
      "           * * * * * * *           \n",
      "            * * * * * *            \n",
      "             * * * * *             \n",
      "              * * * *              \n",
      "               * * *               \n",
      "                * *                \n",
      "                 *                 \n"
     ]
    }
   ],
   "source": [
    "# * * *\n",
    "#  * *\n",
    "#   *\n",
    "cols = (n * 2) -1\n",
    "star = '*'\n",
    "for i in range(n, 0, -1):\n",
    "    num_of_spaces = cols // (i + 1)\n",
    "    \n",
    "    # Calculation for printing star\n",
    "    star_print = star\n",
    "    if i != 1:\n",
    "        star_print = f'{star} '  * (i - 1) + '*'\n",
    "    \n",
    "    # Calculation for printing spaces\n",
    "    parity = cols - ((num_of_spaces * 2) + len(star_print))\n",
    "    if parity != 0:\n",
    "        num_of_spaces = num_of_spaces + (parity // 2)\n",
    "    space_print = ' ' * num_of_spaces\n",
    "    \n",
    "    # Combination of printing spaces and stars\n",
    "    print(f'{star_print}' if i == n else f'{space_print}{star_print}{space_print}')"
   ]
  },
  {
   "cell_type": "code",
   "execution_count": 16,
   "metadata": {},
   "outputs": [
    {
     "name": "stdout",
     "output_type": "stream",
     "text": [
      "1\n",
      "1 2\n",
      "1 2 3\n",
      "1 2 3 4\n",
      "1 2 3 4 5\n",
      "1 2 3 4 5 6\n",
      "1 2 3 4 5 6 7\n",
      "1 2 3 4 5 6 7 8\n",
      "1 2 3 4 5 6 7 8 9\n"
     ]
    }
   ],
   "source": [
    "# 1\n",
    "# 1 2\n",
    "# 1 2 3\n",
    "for i in range(1, n+1):\n",
    "    print(' '.join([str(j) for j in range(1, i+1)]))"
   ]
  },
  {
   "cell_type": "code",
   "execution_count": 14,
   "metadata": {},
   "outputs": [
    {
     "name": "stdout",
     "output_type": "stream",
     "text": [
      "1 \n",
      "2 2 \n",
      "3 3 3 \n",
      "4 4 4 4 \n",
      "5 5 5 5 5 \n",
      "6 6 6 6 6 6 \n",
      "7 7 7 7 7 7 7 \n",
      "8 8 8 8 8 8 8 8 \n",
      "9 9 9 9 9 9 9 9 9 \n"
     ]
    }
   ],
   "source": [
    "# 1\n",
    "# 2 2 \n",
    "# 3 3 3\n",
    "for i in range(1, n+1):\n",
    "    print(f'{i} '*i)"
   ]
  },
  {
   "cell_type": "code",
   "execution_count": null,
   "metadata": {},
   "outputs": [],
   "source": []
  }
 ],
 "metadata": {
  "kernelspec": {
   "display_name": "Python 3",
   "language": "python",
   "name": "python3"
  },
  "language_info": {
   "codemirror_mode": {
    "name": "ipython",
    "version": 3
   },
   "file_extension": ".py",
   "mimetype": "text/x-python",
   "name": "python",
   "nbconvert_exporter": "python",
   "pygments_lexer": "ipython3",
   "version": "3.8.3"
  }
 },
 "nbformat": 4,
 "nbformat_minor": 4
}
